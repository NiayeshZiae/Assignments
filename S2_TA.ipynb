{
  "nbformat": 4,
  "nbformat_minor": 0,
  "metadata": {
    "colab": {
      "provenance": [],
      "authorship_tag": "ABX9TyOqxbnaln+5hI30Yncnx0RE",
      "include_colab_link": true
    },
    "kernelspec": {
      "name": "python3",
      "display_name": "Python 3"
    },
    "language_info": {
      "name": "python"
    }
  },
  "cells": [
    {
      "cell_type": "markdown",
      "metadata": {
        "id": "view-in-github",
        "colab_type": "text"
      },
      "source": [
        "<a href=\"https://colab.research.google.com/github/NiayeshZiae/Assignments/blob/main/S2_TA.ipynb\" target=\"_parent\"><img src=\"https://colab.research.google.com/assets/colab-badge.svg\" alt=\"Open In Colab\"/></a>"
      ]
    },
    {
      "cell_type": "markdown",
      "source": [
        "1- write a fanction sum-of_list that takes a list of integers as input ad returns the sum of all the integers in the list."
      ],
      "metadata": {
        "id": "lJTsgv1c2bgt"
      }
    },
    {
      "cell_type": "code",
      "source": [
        "def sum_of_list(input_list):\n",
        "  return sum(input_list)\n",
        "\n",
        "input_list = [1,2,3,4,5]\n",
        "output = sum_of_list(input_list)\n",
        "print(output)"
      ],
      "metadata": {
        "colab": {
          "base_uri": "https://localhost:8080/"
        },
        "id": "nCypzZ5XLsfc",
        "outputId": "93afca9e-f2b4-44bd-cffe-4938ccbd3140"
      },
      "execution_count": 2,
      "outputs": [
        {
          "output_type": "stream",
          "name": "stdout",
          "text": [
            "15\n"
          ]
        }
      ]
    },
    {
      "cell_type": "markdown",
      "source": [
        "2- creat a function check_key that accepts a dictionary and a key az input. the function should return True if the key exists in the dictionary and False otherwise."
      ],
      "metadata": {
        "id": "QMLFvzypMOu3"
      }
    },
    {
      "cell_type": "code",
      "source": [
        "def check_key(dict1, key):\n",
        "  return key in dict1\n",
        "\n",
        "dict1 = {\"name\": \"niayesh\" , \"age\":20 , \"phone\":9131234567}\n",
        "key = \"name\"\n",
        "result = check_key(dict1, key)\n",
        "print(result)"
      ],
      "metadata": {
        "colab": {
          "base_uri": "https://localhost:8080/"
        },
        "id": "cu2m9h0vMo-x",
        "outputId": "dcb99596-86ef-4336-b06a-01ece4b92f1a"
      },
      "execution_count": 6,
      "outputs": [
        {
          "output_type": "stream",
          "name": "stdout",
          "text": [
            "True\n"
          ]
        }
      ]
    },
    {
      "cell_type": "markdown",
      "source": [
        "3- write a function reverse_string that takes a string as input and returns the string reversed\n"
      ],
      "metadata": {
        "id": "PvzsCfsdO4sR"
      }
    },
    {
      "cell_type": "code",
      "source": [
        "def reverse_string(input_string):\n",
        "  return input_string[::-1]\n",
        "\n",
        "input_string = \"hwllo world\"\n",
        "output_string = reverse_string(input_string)\n",
        "output_string"
      ],
      "metadata": {
        "colab": {
          "base_uri": "https://localhost:8080/",
          "height": 36
        },
        "id": "2Ac9eIelPMqF",
        "outputId": "d8e75044-77fe-4ef0-833e-938ebad347f1"
      },
      "execution_count": 7,
      "outputs": [
        {
          "output_type": "execute_result",
          "data": {
            "text/plain": [
              "'dlrow ollwh'"
            ],
            "application/vnd.google.colaboratory.intrinsic+json": {
              "type": "string"
            }
          },
          "metadata": {},
          "execution_count": 7
        }
      ]
    }
  ]
}